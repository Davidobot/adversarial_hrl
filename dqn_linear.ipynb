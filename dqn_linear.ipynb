{
 "cells": [
  {
   "cell_type": "markdown",
   "metadata": {},
   "source": [
    "# Implementing Deep Q-Learning with Experience Replay\n",
    "\n",
    "Based on Playing Atari with Deep Reinforcement Learning [link](https://www.cs.toronto.edu/~vmnih/docs/dqn.pdf)\n",
    "\n",
    "Main aim is to train a *policy* that tries to maximise $R_{t_0} = \\sum_{t=t_0}^{\\inf}\\gamma^{t-t_0}r_t$ (the discounted cumulative reward) with the discount $0 < \\gamma < 1$\n",
    "\n",
    "**Q-learning** in particular assumes the existence of a function $Q^\\star: \\text{State}\\times\\text{Action}\\rightarrow \\mathbb{R}$ that approximates the return given a state and an action.\n",
    "\n",
    "Hence, one can construct a policy that maximises the expected reward: $\\pi^\\star(s)=\\text{argmax}_aQ^\\star(s, a)$\n",
    "\n",
    "We initialise this **Q-table** and then update it at each training step as so: $Q^\\pi(s,a)=r + \\gamma Q^\\pi(s', \\pi(s'))$\n",
    "\n",
    "Define the temporal difference error $\\delta$ as $\\delta = Q(s, a) - (r + \\gamma \\text{max}_aQ(s',a))$\n",
    "\n",
    "Minimise error using *Huber loss*, so $\\mathcal{L} = \\frac{1}{|B|}_{(s, a, s', r)\\in B}\\sum \\mathcal{L}(\\delta)$ where $\\mathcal{L}(\\delta) = \\frac{1}{2}\\delta^2$ if $\\delta|\\leq 1$ or $|\\delta| - \\frac{1}{2}$ otherwise."
   ]
  },
  {
   "cell_type": "markdown",
   "metadata": {},
   "source": [
    "---\n",
    "### Includes"
   ]
  },
  {
   "cell_type": "code",
   "execution_count": null,
   "metadata": {},
   "outputs": [],
   "source": [
    "%matplotlib inline\n",
    "\n",
    "import gym\n",
    "import math\n",
    "import random\n",
    "import numpy as np\n",
    "import matplotlib\n",
    "import matplotlib.pyplot as plt\n",
    "from collections import namedtuple\n",
    "from itertools import count\n",
    "\n",
    "import torch\n",
    "import torch.nn as nn\n",
    "import torch.optim as optim\n",
    "import torch.nn.functional as F\n",
    "import torchvision.transforms as T\n",
    "\n",
    "env = gym.make('CartPole-v1').unwrapped\n",
    "\n",
    "from IPython import display\n",
    "plt.ion()\n",
    "\n",
    "# if gpu is to be used\n",
    "device = torch.device(\"cpu\")"
   ]
  },
  {
   "cell_type": "markdown",
   "metadata": {},
   "source": [
    "---\n",
    "### Helper functions"
   ]
  },
  {
   "cell_type": "code",
   "execution_count": null,
   "metadata": {},
   "outputs": [],
   "source": [
    "def plot_durations():\n",
    "    plt.figure(2)\n",
    "    plt.clf()\n",
    "    durations_t = torch.tensor(episode_durations, dtype=torch.float)\n",
    "    plt.title('Training')\n",
    "    plt.xlabel('Episode')\n",
    "    plt.ylabel('Duration')\n",
    "    plt.plot(durations_t.numpy())\n",
    "    # Take 100 episode averages and plot them too\n",
    "    if len(durations_t) >= 100:\n",
    "        means = durations_t.unfold(0, 100, 1).mean(1).view(-1)\n",
    "        means = torch.cat((torch.zeros(99), means))\n",
    "        plt.plot(means.numpy())\n",
    "    plt.pause(0.001)  # pause a bit so that plots are updated\n",
    "    display.clear_output(wait=True)"
   ]
  },
  {
   "cell_type": "markdown",
   "metadata": {},
   "source": [
    "---\n",
    "### Code"
   ]
  },
  {
   "cell_type": "code",
   "execution_count": 64,
   "metadata": {},
   "outputs": [],
   "source": [
    "# (state, action) -> (next_state, reward)\n",
    "transition = namedtuple('transition', ('state', 'action', 'next_state', 'reward'))\n",
    "\n",
    "# replay memory D with capacity N\n",
    "class ReplayMemory(object):\n",
    "    def __init__(self, capacity):\n",
    "        self.capacity = capacity\n",
    "        self.memory = []\n",
    "        self.position = 0\n",
    "\n",
    "    # implemented as a cyclical queue\n",
    "    def store(self, *args):\n",
    "        if len(self.memory) < self.capacity:\n",
    "            self.memory.append(None)\n",
    "        \n",
    "        self.memory[self.position] = transition(*args)\n",
    "        self.position = (self.position + 1) % self.capacity\n",
    "\n",
    "    def sample(self, batch_size):\n",
    "        return random.sample(self.memory, batch_size)\n",
    "\n",
    "    def __len__(self):\n",
    "        return len(self.memory)"
   ]
  },
  {
   "cell_type": "code",
   "execution_count": 65,
   "metadata": {},
   "outputs": [],
   "source": [
    "BATCH_SIZE = 16\n",
    "GAMMA = 0.95\n",
    "EPS_START = 0.9\n",
    "EPS_END = 0.05\n",
    "EPS_DECAY = 200 # in number of steps\n",
    "\n",
    "class DQN(nn.Module):\n",
    "    def __init__(self, inputs, outputs):\n",
    "        super(DQN, self).__init__()\n",
    "        self.fc1 = nn.Linear(inputs, 128)\n",
    "        self.fc2 = nn.Linear(128, 128)\n",
    "        self.head = nn.Linear(128, outputs)\n",
    "        \n",
    "        self.steps_done = 0\n",
    "\n",
    "    def forward(self, x):\n",
    "        x = F.relu(self.fc1(x))\n",
    "        x = F.relu(self.fc2(x))\n",
    "        return self.head(x)\n",
    "    \n",
    "    def act(self, state):\n",
    "        eps_threshold = EPS_END + (EPS_START - EPS_END) * math.exp(-1. * self.steps_done / EPS_DECAY)\n",
    "        self.steps_done += 1\n",
    "\n",
    "        # With probability eps select a random action\n",
    "        if random.random() < eps_threshold:\n",
    "            return torch.tensor([[random.randrange(n_actions)]], device=device, dtype=torch.long)\n",
    "\n",
    "        # otherwise select action = maxa Q∗(φ(st), a; θ)\n",
    "        with torch.no_grad():\n",
    "            return np.argmax(self(state)).view(1,1)\n",
    "    \n",
    "    def experience_replay(self):\n",
    "        if len(memory) < BATCH_SIZE:\n",
    "            return\n",
    "        \n",
    "        # in the form (state, action) -> (next_state, reward)\n",
    "        transitions = memory.sample(BATCH_SIZE)\n",
    "        \n",
    "        for state, action, next_state, reward in transitions:\n",
    "            # Set yj = rj for terminal φj+1\n",
    "            updated_q_val = reward\n",
    "            \n",
    "            # Set yj = rj + γ maxa0 Q(φj+1, a0; θ) for non-terminal φj+1\n",
    "            if next_state is not None: # ie if not terminal state\n",
    "                updated_q_val = reward + GAMMA * self(next_state).max(0)[0]\n",
    "                \n",
    "            q_table = self(state)\n",
    "            q_table[action] = updated_q_val\n",
    "            \n",
    "            old_q_table = self(state)\n",
    "            \n",
    "            # Huber loss\n",
    "            loss = F.smooth_l1_loss(old_q_table, q_table)\n",
    "            \n",
    "            # fit the model\n",
    "            optimizer.zero_grad()\n",
    "            loss.backward()\n",
    "            optimizer.step()"
   ]
  },
  {
   "cell_type": "code",
   "execution_count": 66,
   "metadata": {},
   "outputs": [
    {
     "name": "stdout",
     "output_type": "stream",
     "text": [
      "Complete\n"
     ]
    }
   ],
   "source": [
    "# Get number of actions and observations from gym action space\n",
    "n_actions = env.action_space.n\n",
    "n_observations = env.observation_space.shape[0]\n",
    "\n",
    "# Initialize action-value function Q with random weights\n",
    "dqnAgent = DQN(n_observations, n_actions).to(device)\n",
    "\n",
    "# Optimizer\n",
    "learning_rate = 1e-3\n",
    "optimizer = optim.Adam(dqnAgent.parameters(), lr=learning_rate)\n",
    "\n",
    "# Initialize replay memory D to capacity N (= 100000)\n",
    "memory = ReplayMemory(100000)\n",
    "\n",
    "num_episodes = 300 # M\n",
    "episode_durations = []\n",
    "for i_episode in range(num_episodes):\n",
    "    observation = env.reset()\n",
    "    state = torch.from_numpy(observation).float()\n",
    "    \n",
    "    for t in count():\n",
    "        #env.render()\n",
    "        \n",
    "        # Execute action a_t in emulator and observe reward r_t and image x_{t+1}\n",
    "        action = dqnAgent.act(state)\n",
    "        observation, reward, done, _ = env.step(action.item())\n",
    "        reward = torch.tensor([reward], device=device)\n",
    "\n",
    "        # preprocess φ_{t+1} = φ(s_{t+1})\n",
    "        if not done:\n",
    "            next_state = torch.from_numpy(observation).float()\n",
    "        else:\n",
    "            next_state = None\n",
    "\n",
    "        # Store transition (φt, at, rt, φt+1) in D\n",
    "        memory.store(state, action, next_state, reward)\n",
    "\n",
    "        state = next_state\n",
    "\n",
    "        dqnAgent.experience_replay()\n",
    "        \n",
    "        if done:\n",
    "            episode_durations.append(t + 1)\n",
    "            plot_durations()\n",
    "            break\n",
    "\n",
    "print('Complete')\n",
    "plot_durations()"
   ]
  },
  {
   "cell_type": "code",
   "execution_count": 67,
   "metadata": {},
   "outputs": [
    {
     "data": {
      "image/png": "[encoded data removed]",
      "text/plain": [
       "<Figure size 432x288 with 1 Axes>"
      ]
     },
     "metadata": {
      "needs_background": "light"
     },
     "output_type": "display_data"
    }
   ],
   "source": []
  },
  {
   "cell_type": "code",
   "execution_count": null,
   "metadata": {},
   "outputs": [],
   "source": []
  }
 ],
 "metadata": {
  "kernelspec": {
   "display_name": "Python 3",
   "language": "python",
   "name": "python3"
  },
  "language_info": {
   "codemirror_mode": {
    "name": "ipython",
    "version": 3
   },
   "file_extension": ".py",
   "mimetype": "text/x-python",
   "name": "python",
   "nbconvert_exporter": "python",
   "pygments_lexer": "ipython3",
   "version": "3.8.5"
  }
 },
 "nbformat": 4,
 "nbformat_minor": 4
}
